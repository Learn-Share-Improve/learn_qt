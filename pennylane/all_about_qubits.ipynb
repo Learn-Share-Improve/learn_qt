{
 "cells": [
  {
   "cell_type": "markdown",
   "metadata": {},
   "source": [
    "# All About Qubits\n",
    "This notebook contains my thoughts and understanding while learning about quantum computing from PennyLane Codebook.\n",
    "\n",
    "Resources: https://pennylane.ai/codebook/introduction-to-quantum-computing/all-about-qubits"
   ]
  },
  {
   "cell_type": "markdown",
   "metadata": {},
   "source": [
    "Quantum computing is special technology to solve special kinds of problem that is intractable by today's biggest supercomputers."
   ]
  }
 ],
 "metadata": {
  "kernelspec": {
   "display_name": "quan_algo",
   "language": "python",
   "name": "python3"
  },
  "language_info": {
   "name": "python",
   "version": "3.11.11"
  }
 },
 "nbformat": 4,
 "nbformat_minor": 2
}
